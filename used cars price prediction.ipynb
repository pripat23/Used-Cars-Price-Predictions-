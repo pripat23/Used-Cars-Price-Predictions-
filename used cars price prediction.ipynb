{
 "cells": [
  {
   "cell_type": "markdown",
   "id": "a044b3bf",
   "metadata": {},
   "source": [
    "# used cars price prediction\n"
   ]
  },
  {
   "cell_type": "code",
   "execution_count": 3,
   "id": "13408bf5",
   "metadata": {},
   "outputs": [],
   "source": [
    "import selenium\n",
    "import pandas as pd\n",
    "import numpy as np\n",
    "import time\n",
    "from bs4 import BeautifulSoup\n",
    "import requests\n",
    "import re\n",
    "from selenium.webdriver.support.ui import WebDriverWait\n",
    "from selenium.common.exceptions import StaleElementReferenceException, NoSuchElementException\n",
    "\n",
    "from selenium.webdriver.common.keys import Keys\n",
    "from selenium.webdriver.common.action_chains import ActionChains\n",
    "from collections import Counter\n",
    "\n",
    "from selenium import webdriver\n",
    "from selenium.webdriver.chrome.service import Service\n",
    "from webdriver_manager.chrome import ChromeDriverManager\n",
    "from selenium.webdriver.common.by import By\n",
    "\n",
    "#Importing Warnings\n",
    "import warnings\n",
    "warnings.filterwarnings('ignore')"
   ]
  },
  {
   "cell_type": "code",
   "execution_count": 4,
   "id": "e2cd40cc",
   "metadata": {},
   "outputs": [],
   "source": [
    "#options = webdriver.ChromeOptions()\n",
    "#options.add_argument('--disable-notifications')"
   ]
  },
  {
   "cell_type": "code",
   "execution_count": 5,
   "id": "9840ba6d",
   "metadata": {},
   "outputs": [],
   "source": [
    "driver = webdriver.Chrome(r\"C:\\Users\\pranay\\Desktop\\chromedriver_win32\\chromedriver.exe\") "
   ]
  },
  {
   "cell_type": "code",
   "execution_count": 6,
   "id": "8bec85f7",
   "metadata": {},
   "outputs": [],
   "source": [
    "# Getting the webpage of mentioned url\n",
    "page_url = \"https://www.cardekho.com/\"\n",
    "driver.get(page_url)\n",
    "driver.maximize_window()\n",
    "time.sleep(3)"
   ]
  },
  {
   "cell_type": "code",
   "execution_count": 7,
   "id": "548729d9",
   "metadata": {},
   "outputs": [],
   "source": [
    "# Fetching urls to naviga# Fetching urls to navigate used cars page \n",
    "usedcars = driver.find_element(By.XPATH,\"/html/body/div[2]/div/header/div[2]/div/div/nav/ul/li[2]/ul/li[1]/a\")"
   ]
  },
  {
   "cell_type": "code",
   "execution_count": 8,
   "id": "8512fb4b",
   "metadata": {},
   "outputs": [],
   "source": [
    "# Getting used car page urls\n",
    "usedcars = usedcars.get_attribute('href')"
   ]
  },
  {
   "cell_type": "code",
   "execution_count": 9,
   "id": "ad967967",
   "metadata": {},
   "outputs": [
    {
     "data": {
      "text/plain": [
       "'https://www.cardekho.com/#'"
      ]
     },
     "execution_count": 9,
     "metadata": {},
     "output_type": "execute_result"
    }
   ],
   "source": [
    "usedcars"
   ]
  },
  {
   "cell_type": "code",
   "execution_count": 28,
   "id": "47834d13",
   "metadata": {},
   "outputs": [],
   "source": [
    "# Getting used cars urls\n",
    "driver.get(usedcars)\n",
    "time.sleep(3)"
   ]
  },
  {
   "cell_type": "code",
   "execution_count": 29,
   "id": "52bcc674",
   "metadata": {},
   "outputs": [],
   "source": [
    "cities=driver.find_elements(By.XPATH,'//a[@class=\"CityIconBoxCard\"]')\n"
   ]
  },
  {
   "cell_type": "code",
   "execution_count": 30,
   "id": "1cf0201b",
   "metadata": {},
   "outputs": [],
   "source": [
    "city=[]\n",
    "for i in cities:\n",
    "    city.append(i.get_attribute('href'))"
   ]
  },
  {
   "cell_type": "code",
   "execution_count": 31,
   "id": "f065f944",
   "metadata": {},
   "outputs": [
    {
     "data": {
      "text/plain": [
       "['https://www.cardekho.com/used-cars+in+ahmedabad',\n",
       " 'https://www.cardekho.com/used-cars+in+bangalore',\n",
       " 'https://www.cardekho.com/used-cars+in+mumbai',\n",
       " 'https://www.cardekho.com/used-cars+in+jaipur',\n",
       " 'https://www.cardekho.com/used-cars+in+gurgaon',\n",
       " 'https://www.cardekho.com/used-cars+in+delhi-ncr',\n",
       " 'https://www.cardekho.com/used-cars+in+chennai',\n",
       " 'https://www.cardekho.com/used-cars+in+pune',\n",
       " 'https://www.cardekho.com/used-cars+in+hyderabad',\n",
       " 'https://www.cardekho.com/used-cars+in+kolkata',\n",
       " 'https://www.cardekho.com/used-cars+in+agra',\n",
       " 'https://www.cardekho.com/used-cars+in+lucknow']"
      ]
     },
     "execution_count": 31,
     "metadata": {},
     "output_type": "execute_result"
    }
   ],
   "source": [
    "city"
   ]
  },
  {
   "cell_type": "code",
   "execution_count": 14,
   "id": "82166997",
   "metadata": {},
   "outputs": [],
   "source": [
    "Carbrand = []\n",
    "carprice = []\n",
    "kmsdriven = []\n",
    "fuel = []\n",
    "transmission = []\n",
    "cars=[]\n",
    "for i in city:\n",
    "    driver.get(i)\n",
    "    time.sleep(1)\n",
    "    for i in range(100):\n",
    "        driver.execute_script(\"window.scrollTo(0,1500);\")\n",
    "\n",
    "        driver.execute_script(\"window.scrollTo(0, document.body.scrollHeight)\")\n",
    "        time.sleep(3)\n",
    "    \n",
    "    for j in driver.find_elements(By.XPATH,'//div[@class=\"gsc_col-xs-7  carsName\"]//a'):\n",
    "        cars.append(j.get_attribute('href'))\n",
    "        Carbrand.append(j.text)\n",
    "    # Fetching price of the cars\n",
    "    for i in driver.find_elements(By.XPATH,'//span[@class=\"amnt \"]'):\n",
    "        carprice.append(i.text)\n",
    "    \n",
    "    # Fetching driven kilometers of the used cars\n",
    "    for i in driver.find_elements(By.XPATH,'//div[@class=\"truncate dotlist-2\"]//div[1]'):\n",
    "        kmsdriven.append(i.text)\n",
    "    \n",
    "    # Fetching fuel type of the cars\n",
    "    for i in driver.find_elements(By.XPATH,'//div[@class=\"truncate dotlist-2\"]//div[2]'):\n",
    "        fuel.append(i.text)\n",
    "    \n",
    "    # Fetching transmission of the cars\n",
    "    for i in driver.find_elements(By.XPATH,'//div[@class=\"truncate dotlist-2\"]//div[3]'):\n",
    "        transmission.append(i.text)"
   ]
  },
  {
   "cell_type": "code",
   "execution_count": 16,
   "id": "8c8042cb",
   "metadata": {},
   "outputs": [],
   "source": [
    "# Creating empty list to scrap the specification of the used cars\n",
    "seats = []\n",
    "milage = []\n",
    "color = []\n",
    "max_power = []\n",
    "front_brake = []\n",
    "rear_brake = []\n",
    "cargo_vol = []\n",
    "height = []\n",
    "width = []\n",
    "length = []\n",
    "weight = []\n",
    "insp_score = []\n",
    "top_speed = []\n",
    "engine_disp=[]"
   ]
  },
  {
   "cell_type": "code",
   "execution_count": 17,
   "id": "0b273a10",
   "metadata": {},
   "outputs": [],
   "source": [
    "# for loop to get car urls\n",
    "for i in cars:\n",
    "    driver.get(i)\n",
    "    time.sleep(2)\n",
    "    \n",
    "    # Clicking on view all specifications button to view more features of the cars\n",
    "    try:\n",
    "        view_more = driver.find_element(By.XPATH,\"//*[text() = 'View All Specifications' or text() = 'View More']\")\n",
    "        driver.execute_script(\"arguments[0].scrollIntoView();\", view_more)\n",
    "        driver.execute_script(\"arguments[0].click();\", view_more)\n",
    "        time.sleep(2)\n",
    "    except NoSuchElementException:\n",
    "        pass\n",
    "    \n",
    "    # Fetching engine displacement of the cars\n",
    "    try:\n",
    "        eng = driver.find_element(By.XPATH,\"//*[text()='Engine']/following-sibling::div\") \n",
    "        engine_disp.append(eng.text.replace('CC',''))\n",
    "    except NoSuchElementException:\n",
    "        engine_disp.append('-')\n",
    "    \n",
    "    # Fetching Mileage of the cars\n",
    "    try:\n",
    "        mil = driver.find_element(By.XPATH,\"//*[text()='Mileage']/following-sibling::div\")\n",
    "        milage.append(mil.text.split(\" \")[0])\n",
    "    except NoSuchElementException:\n",
    "        milage.append('-')\n",
    "        \n",
    "    # Fetching seating capacity of the cars\n",
    "    try:\n",
    "        sts = driver.find_element(By.XPATH,\"//*[text()='Seating Capacity']/following-sibling::div\")\n",
    "        seats.append(sts.text)\n",
    "    except NoSuchElementException:\n",
    "        seats.append('-')\n",
    "        \n",
    "    # Fetching colour of the cars\n",
    "    try:\n",
    "        clr = driver.find_element(By.XPATH,\"//*[text()='Color']/following-sibling::div\")\n",
    "        color.append(clr.text)\n",
    "    except NoSuchElementException:\n",
    "        color.append('-')\n",
    "        \n",
    "    # Fetching Maximum power of the cars\n",
    "    try:\n",
    "        pwr = driver.find_element(By.XPATH,\"//*[text()='Max Power']/following-sibling::div\")\n",
    "        max_power.append(pwr.text.replace('bhp',''))\n",
    "    except NoSuchElementException:\n",
    "        max_power.append('-')\n",
    "        \n",
    "    # Fetching Front brake type of the cars\n",
    "    try:\n",
    "        fbrk = driver.find_element(By.XPATH,\"//*[text()='Front Brake Type']/following-sibling::div\")\n",
    "        front_brake.append(fbrk.text)\n",
    "    except NoSuchElementException:\n",
    "        front_brake.append('-')\n",
    "        \n",
    "    # Fetching rear brake type of the cars\n",
    "    try:\n",
    "        rbrk = driver.find_element(By.XPATH,\"//*[text()='Rear Brake Type']/following-sibling::div\")\n",
    "        rear_brake.append(rbrk.text)\n",
    "    except NoSuchElementException:\n",
    "        rear_brake.append('-')\n",
    "        \n",
    "    # Fetching details of cargo volume of the cars\n",
    "    try:\n",
    "        vol = driver.find_element(By.XPATH,\"//*[text()='Cargo Volumn']/following-sibling::div\")\n",
    "        cargo_vol.append(vol.text)\n",
    "    except NoSuchElementException:\n",
    "        cargo_vol.append('-')\n",
    "        \n",
    "    # Fetching top speed of the cars\n",
    "    try:\n",
    "        speed = driver.find_element(By.XPATH,\"//*[text()='Top Speed']/following-sibling::div\")\n",
    "        top_speed.append(speed.text)\n",
    "    except NoSuchElementException:\n",
    "        top_speed.append('-')\n",
    "        \n",
    "    # Fetching height of the cars\n",
    "    try:\n",
    "        hgt = driver.find_element(By.XPATH,\"//*[text()='Height']/following-sibling::div\")\n",
    "        height.append(hgt.text.replace('mm',''))\n",
    "    except NoSuchElementException:\n",
    "        height.append('-')\n",
    "        \n",
    "    # Fetching width of the cars\n",
    "    try:\n",
    "        wth = driver.find_element(By.XPATH,\"//*[text()='Width']/following-sibling::div\")\n",
    "        width.append(wth.text.replace('mm',''))\n",
    "    except NoSuchElementException:\n",
    "        width.append('-')\n",
    "        \n",
    "    # Fetching length of the cars\n",
    "    try:\n",
    "        lth = driver.find_element(By.XPATH,\"//*[text()='Length']/following-sibling::div\")\n",
    "        length.append(lth.text.replace('mm',''))\n",
    "    except NoSuchElementException:\n",
    "        length.append('-')\n",
    "        \n",
    "    # Fetching gross weight of the cars\n",
    "    try:\n",
    "        weigh = driver.find_element(By.XPATH,\"//*[text()='Gross Weight']/following-sibling::div\")\n",
    "        weight.append(weigh.text.replace('kg',''))\n",
    "    except NoSuchElementException:\n",
    "        weight.append('-')\n",
    "        \n",
    "    # Fetching Inspection score of the cars\n",
    "    try:\n",
    "        insp = driver.find_element(By.XPATH,\"//div[@class='inspectionRating right-side gsc_col-xs-5 text-right']/span\")\n",
    "        insp_score.append(insp.text)\n",
    "    except NoSuchElementException:\n",
    "        insp_score.append('-')"
   ]
  },
  {
   "cell_type": "code",
   "execution_count": 32,
   "id": "b4c2d2a3",
   "metadata": {},
   "outputs": [],
   "source": [
    "# Creating a dataframe of scraped data\n",
    "data = list(zip(Carbrand,fuel,kmsdriven,engine_disp,transmission,milage,seats,color,max_power,front_brake,rear_brake,cargo_vol,height,width,length,weight,insp_score,top_speed,carprice))\n",
    "df_car_price = pd.DataFrame(data, columns = [\"Car_Name\",\"Fuel_type\",\"Kilometers\",\"Engine_disp\",\"Gear_type\",\"Milage_in_km/ltr\",\"Seating_cap\",\"color\",\"Max_power\",\"front_brake_type\",\"rear_brake_type\",\"cargo_volume\",\"height\",\"width\",\"length\",\"Weight\",\"Insp_score\",\"top_speed\",\"Car_price\"])\n"
   ]
  },
  {
   "cell_type": "code",
   "execution_count": 33,
   "id": "2abbe835",
   "metadata": {},
   "outputs": [],
   "source": [
    "# Saving the scraped data \n",
    "df_car_price.to_csv(\"UsedCarsDetails.csv\")"
   ]
  },
  {
   "cell_type": "code",
   "execution_count": null,
   "id": "9fb1cd5c",
   "metadata": {},
   "outputs": [],
   "source": []
  },
  {
   "cell_type": "code",
   "execution_count": null,
   "id": "dcbc519d",
   "metadata": {},
   "outputs": [],
   "source": []
  }
 ],
 "metadata": {
  "kernelspec": {
   "display_name": "Python 3 (ipykernel)",
   "language": "python",
   "name": "python3"
  },
  "language_info": {
   "codemirror_mode": {
    "name": "ipython",
    "version": 3
   },
   "file_extension": ".py",
   "mimetype": "text/x-python",
   "name": "python",
   "nbconvert_exporter": "python",
   "pygments_lexer": "ipython3",
   "version": "3.9.7"
  },
  "varInspector": {
   "cols": {
    "lenName": 16,
    "lenType": 16,
    "lenVar": 40
   },
   "kernels_config": {
    "python": {
     "delete_cmd_postfix": "",
     "delete_cmd_prefix": "del ",
     "library": "var_list.py",
     "varRefreshCmd": "print(var_dic_list())"
    },
    "r": {
     "delete_cmd_postfix": ") ",
     "delete_cmd_prefix": "rm(",
     "library": "var_list.r",
     "varRefreshCmd": "cat(var_dic_list()) "
    }
   },
   "types_to_exclude": [
    "module",
    "function",
    "builtin_function_or_method",
    "instance",
    "_Feature"
   ],
   "window_display": false
  }
 },
 "nbformat": 4,
 "nbformat_minor": 5
}
